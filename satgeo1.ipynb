{
  "nbformat": 4,
  "nbformat_minor": 0,
  "metadata": {
    "colab": {
      "provenance": [],
      "authorship_tag": "ABX9TyN91cfnZ0R4zjIdmQH1yHqo",
      "include_colab_link": true
    },
    "kernelspec": {
      "name": "python3",
      "display_name": "Python 3"
    },
    "language_info": {
      "name": "python"
    }
  },
  "cells": [
    {
      "cell_type": "markdown",
      "metadata": {
        "id": "view-in-github",
        "colab_type": "text"
      },
      "source": [
        "<a href=\"https://colab.research.google.com/github/ertugrul9134/IACV-QR/blob/main/satgeo1.ipynb\" target=\"_parent\"><img src=\"https://colab.research.google.com/assets/colab-badge.svg\" alt=\"Open In Colab\"/></a>"
      ]
    },
    {
      "cell_type": "markdown",
      "source": [
        "Step 1: Define Constants and Satellite Orbital Elements"
      ],
      "metadata": {
        "id": "FTE-6_z3GdLk"
      }
    },
    {
      "cell_type": "code",
      "source": [
        "import numpy as np\n",
        "\n",
        "# Gravitational constant of Earth (mu), in m^3/s^2\n",
        "mu = 3.986004418e14\n",
        "\n",
        "# Orbital elements from the RINEX navigation message\n",
        "Omega0 = np.deg2rad(0.310656250000e+03)  # Right ascension of ascending node (Ω0)\n",
        "i0 = np.deg2rad(0.990334715919e+00)      # Inclination (i0)\n",
        "omega = np.deg2rad(0.998864978073e+00)   # Argument of perigee (ω)\n",
        "M0 = np.deg2rad(0.403566118492e+00)      # Mean anomaly at reference time (M0)\n",
        "sqrt_a = 0.515402351570e+04              # Square root of semi-major axis\n",
        "a = sqrt_a**2                            # Semi-major axis (a)\n",
        "e = 0.130936282221e-01                   # Eccentricity (e)\n",
        "Delta_n = 0.401409577463e-08             # Mean motion difference (Δn)\n",
        "toe = 0.640000000000e+02                 # Time of ephemeris (toe)\n"
      ],
      "metadata": {
        "id": "G2L0a1ZpGgdM"
      },
      "execution_count": null,
      "outputs": []
    },
    {
      "cell_type": "markdown",
      "source": [
        " Step 2: Time Since Ephemeris Epoch"
      ],
      "metadata": {
        "id": "sesHXzAnGljA"
      }
    },
    {
      "cell_type": "code",
      "source": [
        "# Earth's rotation rate (rad/s)\n",
        "we = 7.2921151467e-5\n",
        "\n",
        "# Time elapsed since toe (in seconds) — here using 1.5 hours as an example\n",
        "tk = 1.5 * 3600  # 5400 seconds\n"
      ],
      "metadata": {
        "id": "a1u8AeSDGpGG"
      },
      "execution_count": null,
      "outputs": []
    },
    {
      "cell_type": "markdown",
      "source": [
        "Step 3: Mean Motion and Mean Anomaly"
      ],
      "metadata": {
        "id": "S4jpBtnYGq4W"
      }
    },
    {
      "cell_type": "code",
      "source": [
        "# Compute corrected mean motion (rad/s)\n",
        "n0 = np.sqrt(mu / a**3)\n",
        "n = n0 + Delta_n\n",
        "\n",
        "# Mean anomaly at time tk\n",
        "Mk = M0 + n * tk\n"
      ],
      "metadata": {
        "id": "kw0BpYYbGss1"
      },
      "execution_count": null,
      "outputs": []
    },
    {
      "cell_type": "markdown",
      "source": [
        " Step 4: Solve Kepler’s Equation for Eccentric Anomaly (Eₖ)"
      ],
      "metadata": {
        "id": "hqL_PJSnGvNA"
      }
    },
    {
      "cell_type": "code",
      "source": [
        "# Initial guess for Eccentric Anomaly\n",
        "Ek = Mk\n",
        "\n",
        "# Iterative solution to Kepler's equation\n",
        "for _ in range(10):\n",
        "    Ek = Mk + e * np.sin(Ek)\n"
      ],
      "metadata": {
        "id": "hkhatUKEGu4N"
      },
      "execution_count": null,
      "outputs": []
    },
    {
      "cell_type": "markdown",
      "source": [
        " Step 5: True Anomaly and Argument of Latitude"
      ],
      "metadata": {
        "id": "oI8FcQiwHZu3"
      }
    },
    {
      "cell_type": "code",
      "source": [
        "# Compute the true anomaly\n",
        "vk = np.arctan2(np.sqrt(1 - e**2) * np.sin(Ek), np.cos(Ek) - e)\n",
        "\n",
        "# Argument of latitude\n",
        "uk = omega + vk\n"
      ],
      "metadata": {
        "id": "qZ3Z_Va0HaRb"
      },
      "execution_count": null,
      "outputs": []
    },
    {
      "cell_type": "markdown",
      "source": [
        "Step 6: Orbital Radius and Satellite Position in Orbital Plane"
      ],
      "metadata": {
        "id": "R7Cpr9pcHbqZ"
      }
    },
    {
      "cell_type": "code",
      "source": [
        "# Corrected orbital radius\n",
        "rk = a * (1 - e * np.cos(Ek))\n",
        "\n",
        "# Position in orbital plane\n",
        "x_prime = rk * np.cos(uk)\n",
        "y_prime = rk * np.sin(uk)\n"
      ],
      "metadata": {
        "id": "lgvvgSh5Hgpc"
      },
      "execution_count": null,
      "outputs": []
    },
    {
      "cell_type": "markdown",
      "source": [
        " Step 7: Compute ECEF Coordinates"
      ],
      "metadata": {
        "id": "HLk5vw7JHiod"
      }
    },
    {
      "cell_type": "code",
      "source": [
        "# Inclination angle (assumed constant)\n",
        "ik = i0\n",
        "\n",
        "# Corrected right ascension of ascending node (Ωₖ)\n",
        "Omegak = Omega0 + (0 - we) * tk\n",
        "\n",
        "# Convert to Earth-Centered Earth-Fixed (ECEF) coordinates\n",
        "xk = x_prime * np.cos(Omegak) - y_prime * np.cos(ik) * np.sin(Omegak)\n",
        "yk = x_prime * np.sin(Omegak) + y_prime * np.cos(ik) * np.cos(Omegak)\n",
        "zk = y_prime * np.sin(ik)\n",
        "\n",
        "# Output coordinates\n",
        "xk, yk, zk\n"
      ],
      "metadata": {
        "id": "g_jGsot3HlQ5"
      },
      "execution_count": null,
      "outputs": []
    },
    {
      "cell_type": "markdown",
      "source": [],
      "metadata": {
        "id": "Hp8Q7jIeHmgm"
      }
    }
  ]
}